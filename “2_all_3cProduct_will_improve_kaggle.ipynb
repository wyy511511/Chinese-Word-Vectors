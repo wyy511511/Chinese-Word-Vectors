{
  "cells": [
    {
      "cell_type": "markdown",
      "metadata": {
        "id": "view-in-github",
        "colab_type": "text"
      },
      "source": [
        "<a href=\"https://colab.research.google.com/github/wyy511511/Chinese-Word-Vectors/blob/master/%E2%80%9C2_all_3cProduct_will_improve_kaggle.ipynb\" target=\"_parent\"><img src=\"https://colab.research.google.com/assets/colab-badge.svg\" alt=\"Open In Colab\"/></a>"
      ]
    },
    {
      "cell_type": "code",
      "source": [
        "from google.colab import drive\n",
        "drive.mount('/content/drive')\n",
        "path = \"drive/MyDrive/Colab Notebooks/\"\n"
      ],
      "metadata": {
        "colab": {
          "base_uri": "https://localhost:8080/"
        },
        "id": "0qihonZmmJqM",
        "outputId": "b8b8db1d-0fc3-4177-f669-d4509e4711b4"
      },
      "id": "0qihonZmmJqM",
      "execution_count": 2,
      "outputs": [
        {
          "output_type": "stream",
          "name": "stdout",
          "text": [
            "Mounted at /content/drive\n"
          ]
        }
      ]
    },
    {
      "cell_type": "code",
      "execution_count": 3,
      "id": "edb1a8d0",
      "metadata": {
        "colab": {
          "base_uri": "https://localhost:8080/",
          "height": 679
        },
        "id": "edb1a8d0",
        "outputId": "1330e03b-0ee4-47be-840a-3648c819707b"
      },
      "outputs": [
        {
          "output_type": "stream",
          "name": "stdout",
          "text": [
            "   Unnamed: 0  reviews.rating  \\\n",
            "0       22908             4.0   \n",
            "1        1338             5.0   \n",
            "2       10234             5.0   \n",
            "3        4077             5.0   \n",
            "4       31516             4.0   \n",
            "\n",
            "                                          categories  \\\n",
            "0  Stereos,Remote Controls,Amazon Echo,Audio Dock...   \n",
            "1  Electronics,iPad & Tablets,All Tablets,Fire Ta...   \n",
            "2  Fire Tablets,Tablets,Computers & Tablets,All T...   \n",
            "3  Fire Tablets,Tablets,Computers & Tablets,All T...   \n",
            "4  Back To College,College Electronics,College Tv...   \n",
            "\n",
            "                                    verified_reviews  positive  \n",
            "0  Before the Echo we played music often for our ...       1.0  \n",
            "1  Great easy tablet for a reasonable price. Not ...       1.0  \n",
            "2  Perfect gift for my mother and mother in law. ...       1.0  \n",
            "3  Perfect tablet for my 4 yr old grandson. Easy ...       1.0  \n",
            "4  This tv box works great!!! Easy to play, and g...       1.0  \n",
            "Unique words:  15513\n",
            "[('the', 13838), ('to', 10549), ('and', 10315), ('for', 9947), ('i', 9235), ('it', 8986), ('a', 7746), ('is', 6363), ('my', 5519), ('this', 5302), ('tablet', 4261), ('great', 3764), ('of', 3361), ('with', 2843), ('on', 2526), ('you', 2436), ('have', 2434), ('use', 2325), ('that', 2127), ('but', 2112)]\n"
          ]
        },
        {
          "output_type": "display_data",
          "data": {
            "text/plain": [
              "<Figure size 432x288 with 1 Axes>"
            ],
            "image/png": "[encoded data removed]"
          },
          "metadata": {}
        }
      ],
      "source": [
        "# 这个是https://www.kaggle.com/code/justjun0321/are-voice-assistants-really-improving-our-lives\n",
        "# senta37 conda\n",
        "# conda activate senta37\n",
        "\n",
        "import numpy as np\n",
        "import pandas as pd\n",
        "import matplotlib.pyplot as plt\n",
        "import seaborn as sns\n",
        "\n",
        "# Set up matplotlib style \n",
        "plt.style.use('ggplot')\n",
        "\n",
        "# Libraries for wordcloud making and image importing\n",
        "from wordcloud import WordCloud, ImageColorGenerator\n",
        "from PIL import Image\n",
        "\n",
        "# And libraries for data transformation\n",
        "import datetime\n",
        "from string import punctuation\n",
        "\n",
        "\n",
        "# Import data and transform tsv file\n",
        "\n",
        "path = \"drive/MyDrive/Colab Notebooks/\"\n",
        "import pandas as pd \n",
        "import os\n",
        "os.getcwd()\n",
        "#data1 = pd.read_csv('../input/amazon-alexa-reviews/amazon_alexa.tsv', delimiter='\\t') \n",
        "#vscode 可能因为是terminal跑的所以可以吧 \n",
        "data = pd.read_csv(path+'1429_1-amazon的电子产品评论-after clean.csv')\n",
        "data1 = pd.read_csv(path+'1429_1-amazon的电子产品评论-after clean.csv')\n",
        "\n",
        "print(data.head())\n",
        "\n",
        "# TODO 合并多个数据集\n",
        "\n",
        "\n",
        "# Transform string data and remove punctuation\n",
        "data['verified_reviews'] = data.verified_reviews.apply(lambda x: x.lower())\n",
        "data['verified_reviews'] = data.verified_reviews.apply(lambda x: ''.join([c for c in x if c not in punctuation]))\n",
        "# Get length of review for EDA\n",
        "data['review_length'] = data.verified_reviews.apply(lambda x: len(x))\n",
        "\n",
        "# And take a look at the distribution of the length\n",
        "data['review_length'].hist(bins=20)\n",
        "# plt.title('Distribution of review length')\n",
        "# plt.savefig(\"./testpic.jpg\")\n",
        "# plt.show()\n",
        "\n",
        "#codereuse\n",
        "#plt.savefig('./test2.jpg')放到了plt.show()之后，只要先保存在显示就可以正常保存了。\n",
        "# Transform date to datetime data type\n",
        "# data['date'] = data.date.apply(lambda x:  datetime.datetime.strptime(x, '%d-%b-%y'))\n",
        "# print(data.info())\n",
        "# pip install pandas --upgrade 版本不匹配 TypeError: Cannot interpret '<attribute 'dtype' of 'numpy.generic' objects>' as a data type\n",
        "'''\n",
        "<class 'pandas.core.frame.DataFrame'>\n",
        "RangeIndex: 3150 entries, 0 to 3149\n",
        "Data columns (total 6 columns):\n",
        "rating              3150 non-null int64\n",
        "date                3150 non-null datetime64[ns]\n",
        "variation           3150 non-null object\n",
        "verified_reviews    3150 non-null object\n",
        "feedback            3150 non-null int64\n",
        "review_length       3150 non-null int64\n",
        "dtypes: datetime64[ns](1), int64(3), object(2)\n",
        "memory usage: 147.7+ KB\n",
        "'''\n",
        "\n",
        "np.random.seed(321)\n",
        "sns.set(rc={'figure.figsize':(14,8)})\n",
        "reviews = ' '.join(data['verified_reviews'].tolist())\n",
        "\n",
        "#A = np.array() mask 可以是 WordCloud的参数 \n",
        "# wordcloud = WordCloud(background_color=\"black\").generate(reviews)\n",
        "# plt.figure()\n",
        "# plt.imshow(wordcloud, interpolation=\"bilinear\")\n",
        "# plt.axis(\"off\")\n",
        "# plt.margins(x=0, y=0)\n",
        "# plt.title('Reviews',size=20)\n",
        "# plt.savefig(\"./test3.jpg\")\n",
        "# plt.show()\n",
        "\n",
        "# print(data.rating.value_counts())\n",
        "# data5 = data[data.rating == 5]\n",
        "# data_not_5 = data[data.rating != 5]\n",
        "# data1 = data[data.rating == 1]\n",
        "# data5[data5['verified_reviews'].str.contains('easy')]['verified_reviews'][:3]\n",
        "\n",
        "\n",
        "#idea TODO 可以用 一分 五分 情感识别一下 \n",
        "# sns.set(rc={'figure.figsize':(14,8)})\n",
        "# reviews = ' '.join(data1['verified_reviews'].tolist())\n",
        "\n",
        "# wordcloud = WordCloud(mask=A,background_color=\"black\").generate(reviews)\n",
        "# plt.figure()\n",
        "# plt.imshow(wordcloud, interpolation=\"bilinear\")\n",
        "# plt.axis(\"off\")\n",
        "# plt.margins(x=0, y=0)\n",
        "# plt.title('Reviews of rating 1',size=20)\n",
        "# plt.show()\n",
        "\n",
        "\n",
        "# 针对每个产品型号的评分的箱线图\n",
        "\n",
        "# \n",
        "# data_date = data.groupby('date').count()\n",
        "# data_date.rating.plot()\n",
        "\n",
        "# #\n",
        "# sns.boxplot('rating','review_length',data=data)\n",
        "# data['log_review_length'] = data.review_length.apply(lambda x: (np.log(x)+1))\n",
        "# sns.boxplot('rating','log_review_length',data=data)\n",
        "\n",
        "# sns.boxplot('variation','log_review_length',data=data)\n",
        "# plt.xticks(rotation = 90)\n",
        "\n",
        "\n",
        "from collections import Counter\n",
        "\n",
        "text = ' '.join(data['verified_reviews'].tolist())\n",
        "review_word = text.split(' ')\n",
        "all_reviews = ' '.join(review_word)\n",
        "words = all_reviews.split()\n",
        "\n",
        "# words wrong datatype\n",
        "counts = Counter(words)\n",
        "vocab = sorted(counts, key=counts.get, reverse=True)\n",
        "vocab_to_int = {word: ii for ii, word in enumerate(vocab, 1)}\n",
        "\n",
        "reviews_ints = []\n",
        "for review in review_word:\n",
        "    reviews_ints.append([vocab_to_int[word] for word in review.split()])\n",
        "print('Unique words: ', len((vocab_to_int)))\n",
        "print(counts.most_common(20))\n",
        "'''\n",
        "Unique words:  4613\n",
        "[('the', 3245), ('i', 2952), ('to', 2821), ('it', 2550), \n",
        "('and', 2219), ('a', 1503), ('my', 1390), ('is', 1218), ('for', 1061), \n",
        "('love', 951), ('echo', 825), ('this', 823), ('with', 786), ('of', 766), ('have', 753),\n",
        " ('great', 717), ('in', 653), ('that', 651), ('but', 634), ('alexa', 586)]\n",
        "'''\n",
        "\n",
        "# data1['rating'].value_counts()\n",
        "text1 = ' '.join(data1['verified_reviews'].tolist())\n",
        "review_word1 = text1.split(' ')\n",
        "all_reviews1 = ' '.join(review_word1)\n",
        "words1 = all_reviews1.split()\n",
        "\n",
        "# words wrong datatype\n",
        "counts1 = Counter(words1)\n",
        "vocab1 = sorted(counts1, key=counts1.get, reverse=True)\n",
        "vocab_to_int1 = {word: ii for ii, word in enumerate(vocab1, 1)}\n",
        "\n",
        "reviews_ints1 = []\n",
        "for review in review_word1:\n",
        "    reviews_ints1.append([vocab_to_int1[word] for word in review.split()])\n",
        "\n",
        "#这个输出结果和 全部的 最普通的词 The only different I found between rating 1 data most common words is \"but\".\n"
      ]
    },
    {
      "cell_type": "code",
      "execution_count": 3,
      "id": "e2c76e45",
      "metadata": {
        "id": "e2c76e45"
      },
      "outputs": [],
      "source": [
        ""
      ]
    },
    {
      "cell_type": "code",
      "execution_count": 4,
      "id": "329067e8",
      "metadata": {
        "scrolled": true,
        "id": "329067e8"
      },
      "outputs": [],
      "source": [
        "# pip install spacy\n",
        "# 下载压缩包 \n",
        "#python -m spacy download en\n",
        "# pip install /Users/a511/Downloads/en_core_web_md-2.2.5.tar.gz\n",
        "# https://blog.csdn.net/qq_43965708/article/details/114028746 版本兼容 \n",
        "#https://github.com/OmkarPathak/pyresparser/issues/46\n",
        "import spacy\n",
        "#nlp = spacy.load('en')\n",
        "nlp = spacy.load(\"en_core_web_sm\")\n",
        "\n",
        "def explain_text_entities(text):\n",
        "    doc = nlp(text)\n",
        "    for ent in doc.ents:\n",
        "        print(f'Entity: {ent}, Label: {ent.label_}, {spacy.explain(ent.label_)}')"
      ]
    },
    {
      "cell_type": "code",
      "execution_count": 5,
      "id": "27272b3c",
      "metadata": {
        "colab": {
          "base_uri": "https://localhost:8080/",
          "height": 423
        },
        "id": "27272b3c",
        "outputId": "f842335d-9e46-43f3-9e8c-d3bcfc752678"
      },
      "outputs": [
        {
          "output_type": "display_data",
          "data": {
            "text/plain": [
              "<IPython.core.display.HTML object>"
            ],
            "text/html": [
              "<span class=\"tex2jax_ignore\"><div class=\"entities\" style=\"line-height: 2.5; direction: ltr\">I absolutely love my new Fire TV!! I am an \n",
              "<mark class=\"entity\" style=\"background: #7aecec; padding: 0.45em 0.6em; margin: 0 0.25em; line-height: 1; border-radius: 0.35em;\">\n",
              "    Amazon\n",
              "    <span style=\"font-size: 0.8em; font-weight: bold; line-height: 1; border-radius: 0.35em; text-transform: uppercase; vertical-align: middle; margin-left: 0.5rem\">ORG</span>\n",
              "</mark>\n",
              " Prime member and having the capability to whats all of my \n",
              "<mark class=\"entity\" style=\"background: #7aecec; padding: 0.45em 0.6em; margin: 0 0.25em; line-height: 1; border-radius: 0.35em;\">\n",
              "    Amazon\n",
              "    <span style=\"font-size: 0.8em; font-weight: bold; line-height: 1; border-radius: 0.35em; text-transform: uppercase; vertical-align: middle; margin-left: 0.5rem\">ORG</span>\n",
              "</mark>\n",
              " products and having the capability of using \n",
              "<mark class=\"entity\" style=\"background: #7aecec; padding: 0.45em 0.6em; margin: 0 0.25em; line-height: 1; border-radius: 0.35em;\">\n",
              "    Netflix\n",
              "    <span style=\"font-size: 0.8em; font-weight: bold; line-height: 1; border-radius: 0.35em; text-transform: uppercase; vertical-align: middle; margin-left: 0.5rem\">ORG</span>\n",
              "</mark>\n",
              " and other streaming apps at my fingertips is amazing!! Highly recommend this!!!Excellent Product</div></span>"
            ]
          },
          "metadata": {}
        },
        {
          "output_type": "display_data",
          "data": {
            "text/plain": [
              "<IPython.core.display.HTML object>"
            ],
            "text/html": [
              "<span class=\"tex2jax_ignore\"><div class=\"entities\" style=\"line-height: 2.5; direction: ltr\">Bought this for my mom who is in her \n",
              "<mark class=\"entity\" style=\"background: #bfe1d9; padding: 0.45em 0.6em; margin: 0 0.25em; line-height: 1; border-radius: 0.35em;\">\n",
              "    70\n",
              "    <span style=\"font-size: 0.8em; font-weight: bold; line-height: 1; border-radius: 0.35em; text-transform: uppercase; vertical-align: middle; margin-left: 0.5rem\">DATE</span>\n",
              "</mark>\n",
              "'s. It's perfect and easy to use for the older generation.awesome for grandma</div></span>"
            ]
          },
          "metadata": {}
        },
        {
          "output_type": "stream",
          "name": "stderr",
          "text": [
            "/usr/lib/python3.7/runpy.py:193: UserWarning: [W006] No entities to visualize found in Doc object. If this is surprising to you, make sure the Doc was processed using a model that supports named entity recognition, and check the `doc.ents` property manually if necessary.\n",
            "  \"__main__\", mod_spec)\n"
          ]
        },
        {
          "output_type": "display_data",
          "data": {
            "text/plain": [
              "<IPython.core.display.HTML object>"
            ],
            "text/html": [
              "<span class=\"tex2jax_ignore\"><div class=\"entities\" style=\"line-height: 2.5; direction: ltr\">Great features and easy to use. A must buy for Prime members.Easy to use</div></span>"
            ]
          },
          "metadata": {}
        },
        {
          "output_type": "display_data",
          "data": {
            "text/plain": [
              "<IPython.core.display.HTML object>"
            ],
            "text/html": [
              "<span class=\"tex2jax_ignore\"><div class=\"entities\" style=\"line-height: 2.5; direction: ltr\">I bought it for \n",
              "<mark class=\"entity\" style=\"background: #bfe1d9; padding: 0.45em 0.6em; margin: 0 0.25em; line-height: 1; border-radius: 0.35em;\">\n",
              "    my 2 year old\n",
              "    <span style=\"font-size: 0.8em; font-weight: bold; line-height: 1; border-radius: 0.35em; text-transform: uppercase; vertical-align: middle; margin-left: 0.5rem\">DATE</span>\n",
              "</mark>\n",
              " and he loves it. It's easy to use and the perfect size for his hands.Great tablet for kids.</div></span>"
            ]
          },
          "metadata": {}
        },
        {
          "output_type": "stream",
          "name": "stderr",
          "text": [
            "/usr/lib/python3.7/runpy.py:193: UserWarning: [W006] No entities to visualize found in Doc object. If this is surprising to you, make sure the Doc was processed using a model that supports named entity recognition, and check the `doc.ents` property manually if necessary.\n",
            "  \"__main__\", mod_spec)\n"
          ]
        },
        {
          "output_type": "display_data",
          "data": {
            "text/plain": [
              "<IPython.core.display.HTML object>"
            ],
            "text/html": [
              "<span class=\"tex2jax_ignore\"><div class=\"entities\" style=\"line-height: 2.5; direction: ltr\">Now I will admit I am a tech gal. I did do some investigations before buying. I was not dissapointed at all. This is like your own personal assistant. It does exactly what it is supposed to do, spell,set alarm,check weather,traffic,news update,even tells jokes. I love the fact that anyone can talk to it and it will still work. My family and friends have pure entertainment with this neat gadget. I look forward to seeing more things added to the commands. Also was super easy to set up and the volume is way better than expected.Neat little gadget</div></span>"
            ]
          },
          "metadata": {}
        }
      ],
      "source": [
        "for i in range(15,20):\n",
        "    one_sentence = data1['verified_reviews'][i]\n",
        "    doc = nlp(one_sentence)\n",
        "    spacy.displacy.render(doc, style='ent',jupyter=True)"
      ]
    },
    {
      "cell_type": "code",
      "execution_count": 6,
      "id": "e77cbfd1",
      "metadata": {
        "id": "e77cbfd1"
      },
      "outputs": [],
      "source": [
        "data['positive'] = 0\n",
        "data['rating'] = data['reviews.rating']\n",
        "data.loc[data['rating'] ==5, 'positive'] = 1\n",
        "\n",
        "y = data['positive']"
      ]
    },
    {
      "cell_type": "code",
      "execution_count": 7,
      "id": "e5200d96",
      "metadata": {
        "colab": {
          "base_uri": "https://localhost:8080/"
        },
        "id": "e5200d96",
        "outputId": "ea0636fe-97b7-4564-a20f-de2599f6f036"
      },
      "outputs": [
        {
          "output_type": "stream",
          "name": "stdout",
          "text": [
            "[nltk_data] Downloading package punkt to /root/nltk_data...\n",
            "[nltk_data]   Unzipping tokenizers/punkt.zip.\n",
            "[nltk_data] Downloading package stopwords to /root/nltk_data...\n",
            "[nltk_data]   Unzipping corpora/stopwords.zip.\n"
          ]
        },
        {
          "output_type": "execute_result",
          "data": {
            "text/plain": [
              "True"
            ]
          },
          "metadata": {},
          "execution_count": 7
        }
      ],
      "source": [
        "import nltk\n",
        "nltk.download('punkt')\n",
        "nltk.download('stopwords')"
      ]
    },
    {
      "cell_type": "code",
      "execution_count": 8,
      "id": "b1e85d17",
      "metadata": {
        "colab": {
          "base_uri": "https://localhost:8080/"
        },
        "id": "b1e85d17",
        "outputId": "6c980191-5416-4621-ae4c-55680eeea5e3"
      },
      "outputs": [
        {
          "output_type": "execute_result",
          "data": {
            "text/plain": [
              "['before',\n",
              " 'the',\n",
              " 'echo',\n",
              " 'we',\n",
              " 'played',\n",
              " 'music',\n",
              " 'often',\n",
              " 'for',\n",
              " 'our',\n",
              " 'toddler',\n",
              " 'via',\n",
              " 'pandora',\n",
              " 'on',\n",
              " 'the',\n",
              " 'amazon',\n",
              " 'firestick',\n",
              " 'i',\n",
              " 'am',\n",
              " 'generally',\n",
              " 'not',\n",
              " 'an',\n",
              " 'early',\n",
              " 'adopter',\n",
              " 'for',\n",
              " 'the',\n",
              " 'newest',\n",
              " 'technology',\n",
              " 'but',\n",
              " 'with',\n",
              " 'a',\n",
              " '95',\n",
              " 'music',\n",
              " 'use',\n",
              " 'case',\n",
              " 'in',\n",
              " 'mind',\n",
              " 'and',\n",
              " 'to',\n",
              " 'experiment',\n",
              " 'i',\n",
              " 'pulled',\n",
              " 'the',\n",
              " 'trigger',\n",
              " 'and',\n",
              " 'bought',\n",
              " 'one',\n",
              " 'within',\n",
              " 'a',\n",
              " 'week',\n",
              " 'i',\n",
              " 'subscribed',\n",
              " 'to',\n",
              " 'the',\n",
              " 'singledevice',\n",
              " 'option',\n",
              " 'for',\n",
              " 'amazon',\n",
              " 'music',\n",
              " 'unlimited',\n",
              " 'at',\n",
              " 'a',\n",
              " 'cost',\n",
              " 'of',\n",
              " '399month',\n",
              " 'after',\n",
              " 'a',\n",
              " 'free',\n",
              " '30day',\n",
              " 'trial',\n",
              " 'now',\n",
              " 'we',\n",
              " 'rarely',\n",
              " 'use',\n",
              " 'pandora',\n",
              " 'due',\n",
              " 'to',\n",
              " 'the',\n",
              " 'expansive',\n",
              " 'amazon',\n",
              " 'selection',\n",
              " 'i',\n",
              " 'also',\n",
              " 'upgraded',\n",
              " 'to',\n",
              " 'a',\n",
              " 'smart',\n",
              " 'thermostat',\n",
              " 'and',\n",
              " 'am',\n",
              " 'looking',\n",
              " 'into',\n",
              " 'philips',\n",
              " 'hue',\n",
              " 'color',\n",
              " 'lighting',\n",
              " 'my',\n",
              " 'experience',\n",
              " 'has',\n",
              " 'been',\n",
              " 'positive',\n",
              " 'enough',\n",
              " 'to',\n",
              " 'also',\n",
              " 'buy',\n",
              " 'an',\n",
              " 'echo',\n",
              " 'dot',\n",
              " 'with',\n",
              " 'harmankardon',\n",
              " 'onyx',\n",
              " 'mini',\n",
              " 'speaker',\n",
              " 'for',\n",
              " 'my',\n",
              " 'parents',\n",
              " 'while',\n",
              " 'great',\n",
              " 'however',\n",
              " 'there',\n",
              " 'are',\n",
              " 'opportunities',\n",
              " 'for',\n",
              " 'improvement1',\n",
              " 'sometimes',\n",
              " 'alexa',\n",
              " 'fails',\n",
              " 'to',\n",
              " 'find',\n",
              " 'a',\n",
              " 'selection',\n",
              " 'which',\n",
              " 'it',\n",
              " 'succeeded',\n",
              " 'at',\n",
              " 'before',\n",
              " 'i',\n",
              " 'made',\n",
              " 'sure',\n",
              " 'my',\n",
              " 'command',\n",
              " 'was',\n",
              " 'identical',\n",
              " 'and',\n",
              " 'clear2',\n",
              " 'the',\n",
              " 'suite',\n",
              " 'of',\n",
              " 'skills',\n",
              " 'is',\n",
              " 'weak',\n",
              " 'and',\n",
              " 'mostly',\n",
              " 'pointless',\n",
              " 'i',\n",
              " 'only',\n",
              " 'use',\n",
              " 'the',\n",
              " 'news',\n",
              " 'flash',\n",
              " 'weather',\n",
              " 'and',\n",
              " 'traffic3',\n",
              " 'search',\n",
              " 'functionality',\n",
              " 'for',\n",
              " 'factsanswers',\n",
              " 'is',\n",
              " 'limited',\n",
              " 'and',\n",
              " 'based',\n",
              " 'on',\n",
              " 'reviews',\n",
              " 'is',\n",
              " 'likely',\n",
              " 'worse',\n",
              " 'than',\n",
              " 'google',\n",
              " 'home4',\n",
              " 'there',\n",
              " 'is',\n",
              " 'no',\n",
              " 'integration',\n",
              " 'with',\n",
              " 'the',\n",
              " 'firestick',\n",
              " 'fire',\n",
              " 'tv',\n",
              " 'which',\n",
              " 'is',\n",
              " 'surprising',\n",
              " 'currently',\n",
              " 'one',\n",
              " 'must',\n",
              " 'buy',\n",
              " 'a',\n",
              " 'logitech',\n",
              " 'harmony',\n",
              " 'hub',\n",
              " 'to',\n",
              " 'do',\n",
              " 'so5',\n",
              " 'alexa',\n",
              " 'struggles',\n",
              " 'to',\n",
              " 'find',\n",
              " 'certain',\n",
              " 'classical',\n",
              " 'pieces',\n",
              " 'even',\n",
              " 'though',\n",
              " 'i',\n",
              " 'have',\n",
              " 'confirmed',\n",
              " 'them',\n",
              " 'to',\n",
              " 'be',\n",
              " 'available',\n",
              " 'on',\n",
              " 'amazon',\n",
              " 'music',\n",
              " 'part',\n",
              " 'of',\n",
              " 'the',\n",
              " 'problem',\n",
              " 'might',\n",
              " 'be',\n",
              " 'the',\n",
              " 'many',\n",
              " 'versions',\n",
              " 'which',\n",
              " 'exist',\n",
              " 'for',\n",
              " 'a',\n",
              " 'given',\n",
              " 'piece',\n",
              " 'as',\n",
              " 'well',\n",
              " 'as',\n",
              " 'the',\n",
              " 'distinction',\n",
              " 'between',\n",
              " 'composer',\n",
              " 'and',\n",
              " 'performing',\n",
              " 'artistoverall',\n",
              " 'i',\n",
              " 'would',\n",
              " 'recommend',\n",
              " 'this',\n",
              " 'product',\n",
              " 'especially',\n",
              " 'for',\n",
              " 'those',\n",
              " 'who',\n",
              " 'listen',\n",
              " 'to',\n",
              " 'a',\n",
              " 'lot',\n",
              " 'of',\n",
              " 'music',\n",
              " 'but',\n",
              " 'dont',\n",
              " 'expect',\n",
              " 'perfection',\n",
              " 'quite',\n",
              " 'yetgreat',\n",
              " 'for',\n",
              " 'music',\n",
              " 'and',\n",
              " 'a',\n",
              " 'gateway',\n",
              " 'to',\n",
              " 'home',\n",
              " 'automation']"
            ]
          },
          "metadata": {},
          "execution_count": 8
        }
      ],
      "source": [
        "from nltk.tokenize import word_tokenize \n",
        "\n",
        "word_tokenize(data.verified_reviews[0])"
      ]
    },
    {
      "cell_type": "code",
      "execution_count": 9,
      "id": "c8465bc5",
      "metadata": {
        "id": "c8465bc5"
      },
      "outputs": [],
      "source": [
        "from nltk.corpus import stopwords \n",
        "from nltk.tokenize import word_tokenize \n",
        "\n",
        "stop_words = set(stopwords.words('english')) \n",
        "\n",
        "data['cleaned_reviews'] = data.verified_reviews.apply(lambda x: word_tokenize(x))\n",
        "\n",
        "data['cleaned_reviews'] = data.cleaned_reviews.apply(lambda x: [w for w in x if w not in stop_words])\n",
        "\n",
        "data['cleaned_reviews'] = data.cleaned_reviews.apply(lambda x: ' '.join(x))"
      ]
    },
    {
      "cell_type": "code",
      "execution_count": 10,
      "id": "08e58045",
      "metadata": {
        "colab": {
          "base_uri": "https://localhost:8080/"
        },
        "id": "08e58045",
        "outputId": "450ba41e-a8d5-41ec-a3f9-e4838a941939"
      },
      "outputs": [
        {
          "output_type": "stream",
          "name": "stdout",
          "text": [
            "<class 'pandas.core.frame.DataFrame'>\n",
            "RangeIndex: 10202 entries, 0 to 10201\n",
            "Data columns (total 8 columns):\n",
            " #   Column            Non-Null Count  Dtype  \n",
            "---  ------            --------------  -----  \n",
            " 0   Unnamed: 0        10202 non-null  int64  \n",
            " 1   reviews.rating    10202 non-null  float64\n",
            " 2   categories        10202 non-null  object \n",
            " 3   verified_reviews  10202 non-null  object \n",
            " 4   positive          10202 non-null  int64  \n",
            " 5   review_length     10202 non-null  int64  \n",
            " 6   rating            10202 non-null  float64\n",
            " 7   cleaned_reviews   10202 non-null  object \n",
            "dtypes: float64(2), int64(3), object(3)\n",
            "memory usage: 637.8+ KB\n"
          ]
        }
      ],
      "source": [
        "data.info()"
      ]
    },
    {
      "cell_type": "code",
      "execution_count": 11,
      "id": "f467f258",
      "metadata": {
        "id": "f467f258"
      },
      "outputs": [],
      "source": [
        "from sklearn.feature_extraction.text import CountVectorizer\n",
        "from sklearn.model_selection import train_test_split\n",
        "\n",
        "from sklearn.feature_selection import SelectKBest\n",
        "from sklearn.feature_selection import chi2\n",
        "\n",
        "X_train, X_test, y_train, y_test = train_test_split(data[\"cleaned_reviews\"], y, test_size=0.33\n",
        "                                    ,random_state=53)\n",
        "\n",
        "# Initialize a CountVectorizer object: count_vectorizer\n",
        "count_vectorizer = CountVectorizer(stop_words=\"english\")\n",
        "\n",
        "# Transform the training data using only the 'text' column values: count_train \n",
        "count_train = count_vectorizer.fit_transform(X_train)\n",
        "\n",
        "y_train = np.asarray(y_train.values)\n",
        "\n",
        "ch2 = SelectKBest(chi2, k = 300)\n",
        "\n",
        "X_new = ch2.fit_transform(count_train, y_train)\n",
        "\n",
        "# Transform the test data using only the 'text' column values: count_test \n",
        "count_test = count_vectorizer.transform(X_test)\n",
        "\n",
        "X_test_new = ch2.transform(X=count_test)"
      ]
    },
    {
      "cell_type": "code",
      "execution_count": 12,
      "id": "fa1be917",
      "metadata": {
        "id": "fa1be917",
        "outputId": "eece1ffd-2f53-4284-8460-bfc9cd5d06a5",
        "colab": {
          "base_uri": "https://localhost:8080/"
        }
      },
      "outputs": [
        {
          "output_type": "stream",
          "name": "stdout",
          "text": [
            "0        0\n",
            "1        1\n",
            "2        1\n",
            "3        1\n",
            "4        0\n",
            "        ..\n",
            "10197    1\n",
            "10198    0\n",
            "10199    0\n",
            "10200    1\n",
            "10201    1\n",
            "Name: positive, Length: 10202, dtype: int64\n"
          ]
        }
      ],
      "source": [
        "print(y)"
      ]
    },
    {
      "cell_type": "code",
      "execution_count": 13,
      "id": "0a6cf47f",
      "metadata": {
        "id": "0a6cf47f"
      },
      "outputs": [],
      "source": [
        "from sklearn.feature_extraction.text import TfidfVectorizer\n",
        "\n",
        "# Initialize a TfidfVectorizer object: tfidf_vectorizer\n",
        "tfidf_vectorizer = TfidfVectorizer(stop_words=\"english\", max_df=0.7)\n",
        "\n",
        "# Transform the training data: tfidf_train \n",
        "tfidf_train = tfidf_vectorizer.fit_transform(X_train)\n",
        "\n",
        "# Transform the test data: tfidf_test \n",
        "tfidf_test = tfidf_vectorizer.transform(X_test)"
      ]
    },
    {
      "cell_type": "code",
      "execution_count": 14,
      "id": "1a78068d",
      "metadata": {
        "colab": {
          "base_uri": "https://localhost:8080/"
        },
        "id": "1a78068d",
        "outputId": "dbe4398f-a960-4eda-f591-273e4fe142c1"
      },
      "outputs": [
        {
          "output_type": "stream",
          "name": "stderr",
          "text": [
            "/usr/local/lib/python3.7/dist-packages/sklearn/utils/deprecation.py:87: FutureWarning: Function get_feature_names is deprecated; get_feature_names is deprecated in 1.0 and will be removed in 1.2. Please use get_feature_names_out instead.\n",
            "  warnings.warn(msg, category=FutureWarning)\n"
          ]
        },
        {
          "output_type": "stream",
          "name": "stdout",
          "text": [
            "   01052016  01162017  0ne  10  100  1000  10000speaker  1000s  100great  \\\n",
            "0         0         0    0   0    0     0             0      0         0   \n",
            "1         0         0    0   0    0     0             0      0         0   \n",
            "2         0         0    0   0    0     0             0      0         0   \n",
            "3         0         0    0   0    0     0             0      0         0   \n",
            "4         0         0    0   0    0     0             0      0         0   \n",
            "\n",
            "   100happier  ...  youtubing  youve  yr  yrs  yuh  zelda  zero  \\\n",
            "0           0  ...          0      0   0    0    0      0     0   \n",
            "1           0  ...          0      0   0    0    0      0     0   \n",
            "2           0  ...          0      0   0    0    0      0     0   \n",
            "3           0  ...          0      0   0    0    0      0     0   \n",
            "4           0  ...          0      0   0    0    0      0     0   \n",
            "\n",
            "   zombiesotherwise  zoo  zwave  \n",
            "0                 0    0      0  \n",
            "1                 0    0      0  \n",
            "2                 0    0      0  \n",
            "3                 0    0      0  \n",
            "4                 0    0      0  \n",
            "\n",
            "[5 rows x 11750 columns]\n",
            "   01052016  01162017  0ne   10  100  1000  10000speaker  1000s  100great  \\\n",
            "0       0.0       0.0  0.0  0.0  0.0   0.0           0.0    0.0       0.0   \n",
            "1       0.0       0.0  0.0  0.0  0.0   0.0           0.0    0.0       0.0   \n",
            "2       0.0       0.0  0.0  0.0  0.0   0.0           0.0    0.0       0.0   \n",
            "3       0.0       0.0  0.0  0.0  0.0   0.0           0.0    0.0       0.0   \n",
            "4       0.0       0.0  0.0  0.0  0.0   0.0           0.0    0.0       0.0   \n",
            "\n",
            "   100happier  ...  youtubing  youve   yr  yrs  yuh  zelda  zero  \\\n",
            "0         0.0  ...        0.0    0.0  0.0  0.0  0.0    0.0   0.0   \n",
            "1         0.0  ...        0.0    0.0  0.0  0.0  0.0    0.0   0.0   \n",
            "2         0.0  ...        0.0    0.0  0.0  0.0  0.0    0.0   0.0   \n",
            "3         0.0  ...        0.0    0.0  0.0  0.0  0.0    0.0   0.0   \n",
            "4         0.0  ...        0.0    0.0  0.0  0.0  0.0    0.0   0.0   \n",
            "\n",
            "   zombiesotherwise  zoo  zwave  \n",
            "0               0.0  0.0    0.0  \n",
            "1               0.0  0.0    0.0  \n",
            "2               0.0  0.0    0.0  \n",
            "3               0.0  0.0    0.0  \n",
            "4               0.0  0.0    0.0  \n",
            "\n",
            "[5 rows x 11750 columns]\n",
            "set()\n",
            "False\n"
          ]
        }
      ],
      "source": [
        "# Create the CountVectorizer DataFrame: count_df\n",
        "count_df = pd.DataFrame(count_train.A, columns=count_vectorizer.get_feature_names())\n",
        "\n",
        "# Create the TfidfVectorizer DataFrame: tfidf_df\n",
        "tfidf_df = pd.DataFrame(tfidf_train.A, columns=tfidf_vectorizer.get_feature_names())\n",
        "\n",
        "# Print the head of count_df\n",
        "print(count_df.head())\n",
        "\n",
        "# Print the head of tfidf_df\n",
        "print(tfidf_df.head())\n",
        "\n",
        "# Calculate the difference in columns: difference\n",
        "difference = set(count_df.columns) - set(tfidf_df.columns)\n",
        "print(difference)\n",
        "\n",
        "# Check whether the DataFrames are equal\n",
        "print(count_df.equals(tfidf_df))"
      ]
    },
    {
      "cell_type": "code",
      "execution_count": 15,
      "id": "c8aa67bc",
      "metadata": {
        "scrolled": true,
        "colab": {
          "base_uri": "https://localhost:8080/"
        },
        "id": "c8aa67bc",
        "outputId": "eade6d1c-e21c-4fa5-c7f7-d0a1f793d00e"
      },
      "outputs": [
        {
          "output_type": "stream",
          "name": "stdout",
          "text": [
            "   01052016  01162017  0ne   10  100  1000  10000speaker  1000s  100great  \\\n",
            "0       0.0       0.0  0.0  0.0  0.0   0.0           0.0    0.0       0.0   \n",
            "1       0.0       0.0  0.0  0.0  0.0   0.0           0.0    0.0       0.0   \n",
            "2       0.0       0.0  0.0  0.0  0.0   0.0           0.0    0.0       0.0   \n",
            "3       0.0       0.0  0.0  0.0  0.0   0.0           0.0    0.0       0.0   \n",
            "4       0.0       0.0  0.0  0.0  0.0   0.0           0.0    0.0       0.0   \n",
            "\n",
            "   100happier  ...  youtubing  youve   yr  yrs  yuh  zelda  zero  \\\n",
            "0         0.0  ...        0.0    0.0  0.0  0.0  0.0    0.0   0.0   \n",
            "1         0.0  ...        0.0    0.0  0.0  0.0  0.0    0.0   0.0   \n",
            "2         0.0  ...        0.0    0.0  0.0  0.0  0.0    0.0   0.0   \n",
            "3         0.0  ...        0.0    0.0  0.0  0.0  0.0    0.0   0.0   \n",
            "4         0.0  ...        0.0    0.0  0.0  0.0  0.0    0.0   0.0   \n",
            "\n",
            "   zombiesotherwise  zoo  zwave  \n",
            "0               0.0  0.0    0.0  \n",
            "1               0.0  0.0    0.0  \n",
            "2               0.0  0.0    0.0  \n",
            "3               0.0  0.0    0.0  \n",
            "4               0.0  0.0    0.0  \n",
            "\n",
            "[5 rows x 11750 columns]\n"
          ]
        }
      ],
      "source": [
        "# print(difference)\n",
        "# Print the head of count_df\n",
        "# print(count_df.head())\n",
        "\n",
        "# Print the head of tfidf_df\n",
        "print(tfidf_df.head())"
      ]
    },
    {
      "cell_type": "code",
      "execution_count": 16,
      "id": "fb8937c4",
      "metadata": {
        "id": "fb8937c4",
        "outputId": "212f4a8b-258d-40a0-da78-ae225e76eaaa",
        "colab": {
          "base_uri": "https://localhost:8080/"
        }
      },
      "outputs": [
        {
          "output_type": "stream",
          "name": "stdout",
          "text": [
            "Index(['01052016', '01162017', '0ne', '10', '100', '1000', '10000speaker',\n",
            "       '1000s', '100great', '100happier',\n",
            "       ...\n",
            "       'youtubing', 'youve', 'yr', 'yrs', 'yuh', 'zelda', 'zero',\n",
            "       'zombiesotherwise', 'zoo', 'zwave'],\n",
            "      dtype='object', length=11750)\n"
          ]
        }
      ],
      "source": [
        "print(tfidf_df.columns)"
      ]
    },
    {
      "cell_type": "code",
      "execution_count": 17,
      "id": "01981488",
      "metadata": {
        "colab": {
          "base_uri": "https://localhost:8080/"
        },
        "id": "01981488",
        "outputId": "d6ed96e1-4dd1-4d31-b666-1a4d03169352"
      },
      "outputs": [
        {
          "output_type": "stream",
          "name": "stdout",
          "text": [
            "Accuracy is: 0.743985743985744\n",
            "F score is: 0.827323717948718\n"
          ]
        }
      ],
      "source": [
        "# Import the necessary modules\n",
        "from sklearn import metrics\n",
        "from sklearn.naive_bayes import MultinomialNB\n",
        "\n",
        "\n",
        "# Instantiate a Multinomial Naive Bayes classifier: nb_classifier\n",
        "nb_classifier = MultinomialNB()\n",
        "\n",
        "# Fit the classifier to the training data\n",
        "nb_classifier.fit(X_new, y_train)\n",
        "\n",
        "# Create the predicted tags: pred\n",
        "pred = nb_classifier.predict(X_test_new)\n",
        "\n",
        "# Calculate the accuracy score: score\n",
        "score = metrics.accuracy_score(y_test, pred)\n",
        "print('Accuracy is:',score)\n",
        "f1 = metrics.f1_score(y_test, pred)\n",
        "print('F score is:',f1)"
      ]
    },
    {
      "cell_type": "code",
      "execution_count": 18,
      "id": "6d03dc5b",
      "metadata": {
        "colab": {
          "base_uri": "https://localhost:8080/",
          "height": 503
        },
        "id": "6d03dc5b",
        "outputId": "8f6a9ac0-a85e-4366-a7a1-95b4664af0c2"
      },
      "outputs": [
        {
          "output_type": "execute_result",
          "data": {
            "text/plain": [
              "<matplotlib.axes._subplots.AxesSubplot at 0x7f753444dd50>"
            ]
          },
          "metadata": {},
          "execution_count": 18
        },
        {
          "output_type": "display_data",
          "data": {
            "text/plain": [
              "<Figure size 1008x576 with 2 Axes>"
            ],
            "image/png": "[encoded data removed]"
          },
          "metadata": {}
        }
      ],
      "source": [
        "sns.heatmap(metrics.confusion_matrix(pred,y_test),annot=True,fmt='2.0f')"
      ]
    },
    {
      "cell_type": "code",
      "execution_count": 19,
      "id": "6d9c62d4",
      "metadata": {
        "colab": {
          "base_uri": "https://localhost:8080/"
        },
        "id": "6d9c62d4",
        "outputId": "3bb8de19-4909-4e4b-8cc4-cbac23fbbb9d"
      },
      "outputs": [
        {
          "output_type": "stream",
          "name": "stdout",
          "text": [
            "Accuracy is: 0.7024057024057024\n",
            "F score is: 0.7961757526444263\n",
            "Accuracy is: 0.7419067419067419\n",
            "F score is: 0.8355723746452223\n"
          ]
        }
      ],
      "source": [
        "from sklearn.ensemble import RandomForestClassifier\n",
        "from sklearn.model_selection import GridSearchCV\n",
        "from sklearn.ensemble import RandomForestClassifier\n",
        "\n",
        "from sklearn.feature_extraction.text import TfidfTransformer\n",
        "def TextPreprocessing(train,train_y,test):\n",
        "    \n",
        "    CountVectorizer(stop_words=\"english\")\n",
        "    count = count_vectorizer.fit_transform(train)\n",
        "    count_test = count_vectorizer.transform(X_test)\n",
        "    \n",
        "    tfidf_vectorizer = TfidfTransformer()\n",
        "    tfidf = tfidf_vectorizer.fit_transform(count)\n",
        "    tfidf_test = tfidf_vectorizer.transform(count_test)\n",
        "    \n",
        "    ch2 = SelectKBest(chi2, k = 300)\n",
        "    \n",
        "    train_new = ch2.fit_transform(tfidf, y_train)\n",
        "    test_new = ch2.transform(tfidf_test)\n",
        "    \n",
        "    return train_new, test_new\n",
        "\n",
        "train, test = TextPreprocessing(X_train,y_train,X_test)\n",
        "\n",
        "\n",
        "clf = RandomForestClassifier(random_state=51)\n",
        "# Fit the classifier to the training data\n",
        "clf.fit(train, y_train)\n",
        "\n",
        "# Create the predicted tags: pred\n",
        "pred = clf.predict(test)\n",
        "\n",
        "# Calculate the accuracy score: score\n",
        "score = metrics.accuracy_score(y_test, pred)\n",
        "print('Accuracy is:',score)\n",
        "f1 = metrics.f1_score(y_test, pred)\n",
        "print('F score is:',f1)\n",
        "\n",
        "clf = RandomForestClassifier(random_state=51)\n",
        "# Fit the classifier to the training data\n",
        "clf.fit(tfidf_train, y_train)\n",
        "\n",
        "# Create the predicted tags: pred\n",
        "pred = clf.predict(tfidf_test)\n",
        "\n",
        "# Calculate the accuracy score: score\n",
        "score = metrics.accuracy_score(y_test, pred)\n",
        "print('Accuracy is:',score)\n",
        "f1 = metrics.f1_score(y_test, pred)\n",
        "print('F score is:',f1)\n",
        "\n",
        "\n",
        "\n",
        "\n",
        "# clf = RandomForestClassifier()\n",
        "\n",
        "# scorer = metrics.make_scorer(metrics.fbeta_score, beta=0.5)\n",
        "\n",
        "# parameters = {'n_estimators': [150, 180, 250], 'max_features': [120,150], 'max_depth': [120,135,150],\n",
        "#               'min_samples_split':[3,5],'min_samples_leaf':[1,3,5]}\n",
        "\n",
        "# grid_obj = GridSearchCV(clf, parameters, scoring=scorer)\n",
        "\n",
        "# grid_fit = grid_obj.fit(X_new, y_train)\n",
        "\n",
        "# # Get the estimator\n",
        "# best_clf = grid_fit.best_estimator_\n",
        "\n",
        "# best_predictions = best_clf.predict(X_test_new)\n",
        "\n",
        "# score = metrics.accuracy_score(y_test, best_predictions)\n",
        "# print('Accuracy is:',score)\n",
        "# f1 = metrics.f1_score(y_test, best_predictions)\n",
        "# print('F score is:',f1)\n",
        "\n"
      ]
    },
    {
      "cell_type": "code",
      "source": [
        "\n",
        "clf = RandomForestClassifier()\n",
        "\n",
        "scorer = metrics.make_scorer(metrics.fbeta_score, beta=0.5)\n",
        "\n",
        "parameters = {'n_estimators': [150, 180, 250], 'max_features': [120,150], 'max_depth': [120,135,150],\n",
        "              'min_samples_split':[3,5],'min_samples_leaf':[1,3,5]}\n",
        "\n",
        "grid_obj = GridSearchCV(clf, parameters, scoring=scorer)\n",
        "\n",
        "grid_fit = grid_obj.fit(X_new, y_train)\n",
        "\n",
        "# Get the estimator\n",
        "best_clf = grid_fit.best_estimator_\n",
        "\n",
        "best_predictions = best_clf.predict(X_test_new)\n",
        "\n",
        "score = metrics.accuracy_score(y_test, best_predictions)\n",
        "print('Accuracy is:',score)\n",
        "f1 = metrics.f1_score(y_test, best_predictions)\n",
        "print('F score is:',f1)"
      ],
      "metadata": {
        "colab": {
          "base_uri": "https://localhost:8080/"
        },
        "id": "ZPz_WM8mnRlA",
        "outputId": "edcf9d01-4043-4345-929e-36c12f7ee488"
      },
      "id": "ZPz_WM8mnRlA",
      "execution_count": 20,
      "outputs": [
        {
          "output_type": "stream",
          "name": "stdout",
          "text": [
            "Accuracy is: 0.7228987228987229\n",
            "F score is: 0.8102501525320317\n"
          ]
        }
      ]
    },
    {
      "cell_type": "code",
      "execution_count": 21,
      "id": "6ad25fe4",
      "metadata": {
        "colab": {
          "base_uri": "https://localhost:8080/",
          "height": 1000
        },
        "id": "6ad25fe4",
        "outputId": "28a9a6e4-b343-4caf-840a-898699cf6153"
      },
      "outputs": [
        {
          "output_type": "stream",
          "name": "stderr",
          "text": [
            "/usr/local/lib/python3.7/dist-packages/sklearn/utils/deprecation.py:87: FutureWarning: Function get_feature_names is deprecated; get_feature_names is deprecated in 1.0 and will be removed in 1.2. Please use get_feature_names_out instead.\n",
            "  warnings.warn(msg, category=FutureWarning)\n"
          ]
        },
        {
          "output_type": "display_data",
          "data": {
            "text/plain": [
              "<Figure size 792x3600 with 1 Axes>"
            ],
            "image/png": "[encoded data removed]"
          },
          "metadata": {}
        }
      ],
      "source": [
        "from itertools import compress\n",
        "\n",
        "features = count_vectorizer.get_feature_names()\n",
        "mask = ch2.get_support()\n",
        "features = list(compress(features, mask))\n",
        "importances = best_clf.feature_importances_\n",
        "#importances = clf.feature_importances_\n",
        "indices = np.argsort(importances)\n",
        "\n",
        "sns.set(rc={'figure.figsize':(11,50)})\n",
        "\n",
        "plt.title('Feature Importances')\n",
        "plt.barh(range(len(indices)), importances[indices], color='b', align='center')\n",
        "plt.yticks(range(len(indices)), [features[i] for i in indices])\n",
        "plt.xlabel('Relative Importance')\n",
        "plt.show()"
      ]
    },
    {
      "cell_type": "code",
      "execution_count": 22,
      "id": "2c7dd010",
      "metadata": {
        "colab": {
          "base_uri": "https://localhost:8080/",
          "height": 633
        },
        "id": "2c7dd010",
        "outputId": "1edd0e2b-9e6a-456f-b80d-ddc80f9e866b"
      },
      "outputs": [
        {
          "output_type": "stream",
          "name": "stdout",
          "text": [
            "Requirement already satisfied: eli5 in /usr/local/lib/python3.7/dist-packages (0.11.0)\n",
            "Requirement already satisfied: six in /usr/local/lib/python3.7/dist-packages (from eli5) (1.15.0)\n",
            "Requirement already satisfied: tabulate>=0.7.7 in /usr/local/lib/python3.7/dist-packages (from eli5) (0.8.9)\n",
            "Requirement already satisfied: attrs>16.0.0 in /usr/local/lib/python3.7/dist-packages (from eli5) (21.4.0)\n",
            "Requirement already satisfied: scipy in /usr/local/lib/python3.7/dist-packages (from eli5) (1.4.1)\n",
            "Requirement already satisfied: jinja2 in /usr/local/lib/python3.7/dist-packages (from eli5) (2.11.3)\n",
            "Requirement already satisfied: graphviz in /usr/local/lib/python3.7/dist-packages (from eli5) (0.10.1)\n",
            "Requirement already satisfied: numpy>=1.9.0 in /usr/local/lib/python3.7/dist-packages (from eli5) (1.21.5)\n",
            "Requirement already satisfied: scikit-learn>=0.20 in /usr/local/lib/python3.7/dist-packages (from eli5) (1.0.2)\n",
            "Requirement already satisfied: joblib>=0.11 in /usr/local/lib/python3.7/dist-packages (from scikit-learn>=0.20->eli5) (1.1.0)\n",
            "Requirement already satisfied: threadpoolctl>=2.0.0 in /usr/local/lib/python3.7/dist-packages (from scikit-learn>=0.20->eli5) (3.1.0)\n",
            "Requirement already satisfied: MarkupSafe>=0.23 in /usr/local/lib/python3.7/dist-packages (from jinja2->eli5) (2.0.1)\n"
          ]
        },
        {
          "output_type": "execute_result",
          "data": {
            "text/plain": [
              "<IPython.core.display.HTML object>"
            ],
            "text/html": [
              "\n",
              "    <style>\n",
              "    table.eli5-weights tr:hover {\n",
              "        filter: brightness(85%);\n",
              "    }\n",
              "</style>\n",
              "\n",
              "\n",
              "\n",
              "    \n",
              "\n",
              "    \n",
              "\n",
              "    \n",
              "\n",
              "    \n",
              "\n",
              "    \n",
              "\n",
              "    \n",
              "\n",
              "\n",
              "    \n",
              "\n",
              "    \n",
              "\n",
              "    \n",
              "\n",
              "    \n",
              "\n",
              "    \n",
              "\n",
              "    \n",
              "\n",
              "\n",
              "    \n",
              "\n",
              "    \n",
              "\n",
              "    \n",
              "\n",
              "    \n",
              "\n",
              "    \n",
              "        <table class=\"eli5-weights eli5-feature-importances\" style=\"border-collapse: collapse; border: none; margin-top: 0em; table-layout: auto;\">\n",
              "    <thead>\n",
              "    <tr style=\"border: none;\">\n",
              "        <th style=\"padding: 0 1em 0 0.5em; text-align: right; border: none;\">Weight</th>\n",
              "        <th style=\"padding: 0 0.5em 0 0.5em; text-align: left; border: none;\">Feature</th>\n",
              "    </tr>\n",
              "    </thead>\n",
              "    <tbody>\n",
              "    \n",
              "        <tr style=\"background-color: hsl(120, 100.00%, 80.00%); border: none;\">\n",
              "            <td style=\"padding: 0 1em 0 0.5em; text-align: right; border: none;\">\n",
              "                0.0101\n",
              "                \n",
              "                    &plusmn; 0.0020\n",
              "                \n",
              "            </td>\n",
              "            <td style=\"padding: 0 0.5em 0 0.5em; text-align: left; border: none;\">\n",
              "                great\n",
              "            </td>\n",
              "        </tr>\n",
              "    \n",
              "        <tr style=\"background-color: hsl(120, 100.00%, 80.58%); border: none;\">\n",
              "            <td style=\"padding: 0 1em 0 0.5em; text-align: right; border: none;\">\n",
              "                0.0097\n",
              "                \n",
              "                    &plusmn; 0.0056\n",
              "                \n",
              "            </td>\n",
              "            <td style=\"padding: 0 0.5em 0 0.5em; text-align: left; border: none;\">\n",
              "                love\n",
              "            </td>\n",
              "        </tr>\n",
              "    \n",
              "        <tr style=\"background-color: hsl(120, 100.00%, 83.07%); border: none;\">\n",
              "            <td style=\"padding: 0 1em 0 0.5em; text-align: right; border: none;\">\n",
              "                0.0080\n",
              "                \n",
              "                    &plusmn; 0.0039\n",
              "                \n",
              "            </td>\n",
              "            <td style=\"padding: 0 0.5em 0 0.5em; text-align: left; border: none;\">\n",
              "                slow\n",
              "            </td>\n",
              "        </tr>\n",
              "    \n",
              "        <tr style=\"background-color: hsl(120, 100.00%, 84.42%); border: none;\">\n",
              "            <td style=\"padding: 0 1em 0 0.5em; text-align: right; border: none;\">\n",
              "                0.0071\n",
              "                \n",
              "                    &plusmn; 0.0056\n",
              "                \n",
              "            </td>\n",
              "            <td style=\"padding: 0 0.5em 0 0.5em; text-align: left; border: none;\">\n",
              "                tablet\n",
              "            </td>\n",
              "        </tr>\n",
              "    \n",
              "        <tr style=\"background-color: hsl(120, 100.00%, 84.51%); border: none;\">\n",
              "            <td style=\"padding: 0 1em 0 0.5em; text-align: right; border: none;\">\n",
              "                0.0070\n",
              "                \n",
              "                    &plusmn; 0.0011\n",
              "                \n",
              "            </td>\n",
              "            <td style=\"padding: 0 0.5em 0 0.5em; text-align: left; border: none;\">\n",
              "                ok\n",
              "            </td>\n",
              "        </tr>\n",
              "    \n",
              "        <tr style=\"background-color: hsl(120, 100.00%, 85.82%); border: none;\">\n",
              "            <td style=\"padding: 0 1em 0 0.5em; text-align: right; border: none;\">\n",
              "                0.0062\n",
              "                \n",
              "                    &plusmn; 0.0027\n",
              "                \n",
              "            </td>\n",
              "            <td style=\"padding: 0 0.5em 0 0.5em; text-align: left; border: none;\">\n",
              "                overall\n",
              "            </td>\n",
              "        </tr>\n",
              "    \n",
              "        <tr style=\"background-color: hsl(120, 100.00%, 87.89%); border: none;\">\n",
              "            <td style=\"padding: 0 1em 0 0.5em; text-align: right; border: none;\">\n",
              "                0.0049\n",
              "                \n",
              "                    &plusmn; 0.0031\n",
              "                \n",
              "            </td>\n",
              "            <td style=\"padding: 0 0.5em 0 0.5em; text-align: left; border: none;\">\n",
              "                good\n",
              "            </td>\n",
              "        </tr>\n",
              "    \n",
              "        <tr style=\"background-color: hsl(120, 100.00%, 88.41%); border: none;\">\n",
              "            <td style=\"padding: 0 1em 0 0.5em; text-align: right; border: none;\">\n",
              "                0.0046\n",
              "                \n",
              "                    &plusmn; 0.0013\n",
              "                \n",
              "            </td>\n",
              "            <td style=\"padding: 0 0.5em 0 0.5em; text-align: left; border: none;\">\n",
              "                needs\n",
              "            </td>\n",
              "        </tr>\n",
              "    \n",
              "        <tr style=\"background-color: hsl(120, 100.00%, 89.36%); border: none;\">\n",
              "            <td style=\"padding: 0 1em 0 0.5em; text-align: right; border: none;\">\n",
              "                0.0041\n",
              "                \n",
              "                    &plusmn; 0.0049\n",
              "                \n",
              "            </td>\n",
              "            <td style=\"padding: 0 0.5em 0 0.5em; text-align: left; border: none;\">\n",
              "                price\n",
              "            </td>\n",
              "        </tr>\n",
              "    \n",
              "        <tr style=\"background-color: hsl(120, 100.00%, 90.81%); border: none;\">\n",
              "            <td style=\"padding: 0 1em 0 0.5em; text-align: right; border: none;\">\n",
              "                0.0033\n",
              "                \n",
              "                    &plusmn; 0.0017\n",
              "                \n",
              "            </td>\n",
              "            <td style=\"padding: 0 0.5em 0 0.5em; text-align: left; border: none;\">\n",
              "                kids\n",
              "            </td>\n",
              "        </tr>\n",
              "    \n",
              "        <tr style=\"background-color: hsl(120, 100.00%, 91.27%); border: none;\">\n",
              "            <td style=\"padding: 0 1em 0 0.5em; text-align: right; border: none;\">\n",
              "                0.0031\n",
              "                \n",
              "                    &plusmn; 0.0037\n",
              "                \n",
              "            </td>\n",
              "            <td style=\"padding: 0 0.5em 0 0.5em; text-align: left; border: none;\">\n",
              "                loves\n",
              "            </td>\n",
              "        </tr>\n",
              "    \n",
              "        <tr style=\"background-color: hsl(120, 100.00%, 91.99%); border: none;\">\n",
              "            <td style=\"padding: 0 1em 0 0.5em; text-align: right; border: none;\">\n",
              "                0.0027\n",
              "                \n",
              "                    &plusmn; 0.0046\n",
              "                \n",
              "            </td>\n",
              "            <td style=\"padding: 0 0.5em 0 0.5em; text-align: left; border: none;\">\n",
              "                doesnt\n",
              "            </td>\n",
              "        </tr>\n",
              "    \n",
              "        <tr style=\"background-color: hsl(120, 100.00%, 92.36%); border: none;\">\n",
              "            <td style=\"padding: 0 1em 0 0.5em; text-align: right; border: none;\">\n",
              "                0.0026\n",
              "                \n",
              "                    &plusmn; 0.0020\n",
              "                \n",
              "            </td>\n",
              "            <td style=\"padding: 0 0.5em 0 0.5em; text-align: left; border: none;\">\n",
              "                basic\n",
              "            </td>\n",
              "        </tr>\n",
              "    \n",
              "        <tr style=\"background-color: hsl(120, 100.00%, 92.36%); border: none;\">\n",
              "            <td style=\"padding: 0 1em 0 0.5em; text-align: right; border: none;\">\n",
              "                0.0026\n",
              "                \n",
              "                    &plusmn; 0.0023\n",
              "                \n",
              "            </td>\n",
              "            <td style=\"padding: 0 0.5em 0 0.5em; text-align: left; border: none;\">\n",
              "                tv\n",
              "            </td>\n",
              "        </tr>\n",
              "    \n",
              "        <tr style=\"background-color: hsl(120, 100.00%, 92.74%); border: none;\">\n",
              "            <td style=\"padding: 0 1em 0 0.5em; text-align: right; border: none;\">\n",
              "                0.0024\n",
              "                \n",
              "                    &plusmn; 0.0007\n",
              "                \n",
              "            </td>\n",
              "            <td style=\"padding: 0 0.5em 0 0.5em; text-align: left; border: none;\">\n",
              "                decent\n",
              "            </td>\n",
              "        </tr>\n",
              "    \n",
              "        <tr style=\"background-color: hsl(120, 100.00%, 93.38%); border: none;\">\n",
              "            <td style=\"padding: 0 1em 0 0.5em; text-align: right; border: none;\">\n",
              "                0.0021\n",
              "                \n",
              "                    &plusmn; 0.0020\n",
              "                \n",
              "            </td>\n",
              "            <td style=\"padding: 0 0.5em 0 0.5em; text-align: left; border: none;\">\n",
              "                difficult\n",
              "            </td>\n",
              "        </tr>\n",
              "    \n",
              "        <tr style=\"background-color: hsl(120, 100.00%, 93.52%); border: none;\">\n",
              "            <td style=\"padding: 0 1em 0 0.5em; text-align: right; border: none;\">\n",
              "                0.0020\n",
              "                \n",
              "                    &plusmn; 0.0012\n",
              "                \n",
              "            </td>\n",
              "            <td style=\"padding: 0 0.5em 0 0.5em; text-align: left; border: none;\">\n",
              "                return\n",
              "            </td>\n",
              "        </tr>\n",
              "    \n",
              "        <tr style=\"background-color: hsl(120, 100.00%, 93.65%); border: none;\">\n",
              "            <td style=\"padding: 0 1em 0 0.5em; text-align: right; border: none;\">\n",
              "                0.0020\n",
              "                \n",
              "                    &plusmn; 0.0010\n",
              "                \n",
              "            </td>\n",
              "            <td style=\"padding: 0 0.5em 0 0.5em; text-align: left; border: none;\">\n",
              "                loved\n",
              "            </td>\n",
              "        </tr>\n",
              "    \n",
              "        <tr style=\"background-color: hsl(120, 100.00%, 93.65%); border: none;\">\n",
              "            <td style=\"padding: 0 1em 0 0.5em; text-align: right; border: none;\">\n",
              "                0.0020\n",
              "                \n",
              "                    &plusmn; 0.0034\n",
              "                \n",
              "            </td>\n",
              "            <td style=\"padding: 0 0.5em 0 0.5em; text-align: left; border: none;\">\n",
              "                bad\n",
              "            </td>\n",
              "        </tr>\n",
              "    \n",
              "        <tr style=\"background-color: hsl(120, 100.00%, 93.92%); border: none;\">\n",
              "            <td style=\"padding: 0 1em 0 0.5em; text-align: right; border: none;\">\n",
              "                0.0018\n",
              "                \n",
              "                    &plusmn; 0.0017\n",
              "                \n",
              "            </td>\n",
              "            <td style=\"padding: 0 0.5em 0 0.5em; text-align: left; border: none;\">\n",
              "                work\n",
              "            </td>\n",
              "        </tr>\n",
              "    \n",
              "    \n",
              "        \n",
              "            <tr style=\"background-color: hsl(120, 100.00%, 93.92%); border: none;\">\n",
              "                <td colspan=\"2\" style=\"padding: 0 0.5em 0 0.5em; text-align: center; border: none; white-space: nowrap;\">\n",
              "                    <i>&hellip; 280 more &hellip;</i>\n",
              "                </td>\n",
              "            </tr>\n",
              "        \n",
              "    \n",
              "    </tbody>\n",
              "</table>\n",
              "    \n",
              "\n",
              "    \n",
              "\n",
              "\n",
              "    \n",
              "\n",
              "    \n",
              "\n",
              "    \n",
              "\n",
              "    \n",
              "\n",
              "    \n",
              "\n",
              "    \n",
              "\n",
              "\n",
              "\n"
            ]
          },
          "metadata": {},
          "execution_count": 22
        }
      ],
      "source": [
        "\n",
        "!pip install eli5\n",
        "import eli5\n",
        "from eli5.sklearn import PermutationImportance\n",
        "\n",
        "X_test_new = X_test_new.toarray()\n",
        "\n",
        "perm = PermutationImportance(best_clf, random_state=1).fit(X_test_new, y_test)\n",
        "eli5.show_weights(perm, feature_names = features)"
      ]
    },
    {
      "cell_type": "code",
      "execution_count": null,
      "id": "bb195cc8",
      "metadata": {
        "id": "bb195cc8"
      },
      "outputs": [],
      "source": [
        "import pkg_resources\n",
        "print(pkg_resources.__file__)"
      ]
    },
    {
      "cell_type": "code",
      "source": [
        "print(type(best_clf))"
      ],
      "metadata": {
        "colab": {
          "base_uri": "https://localhost:8080/"
        },
        "id": "wugvY0oBwMF5",
        "outputId": "4d441db8-88f9-4f3f-8b81-71c67c5c6f05"
      },
      "id": "wugvY0oBwMF5",
      "execution_count": 23,
      "outputs": [
        {
          "output_type": "stream",
          "name": "stdout",
          "text": [
            "<class 'sklearn.ensemble._forest.RandomForestClassifier'>\n"
          ]
        }
      ]
    },
    {
      "cell_type": "code",
      "execution_count": 24,
      "id": "534fdfa6",
      "metadata": {
        "colab": {
          "base_uri": "https://localhost:8080/"
        },
        "id": "534fdfa6",
        "outputId": "d643545b-3137-48b7-ef05-109c8e02087b"
      },
      "outputs": [
        {
          "output_type": "stream",
          "name": "stdout",
          "text": [
            "RandomForestClassifier(max_depth=120, max_features=120, min_samples_split=5,\n",
            "                       n_estimators=180)\n"
          ]
        }
      ],
      "source": [
        "print(best_clf)"
      ]
    },
    {
      "cell_type": "code",
      "source": [
        "test_clf = RandomForestClassifier(max_depth=110, max_features=110, min_samples_split=5,\n",
        "                       n_estimators=180)\n",
        "test_clf.fit(X_new, y_train)\n",
        "test_predictions = test_clf.predict(X_test_new)\n",
        "\n",
        "score = metrics.accuracy_score(y_test, test_predictions)\n",
        "print('Accuracy is:',score)\n",
        "f1 = metrics.f1_score(y_test, test_predictions)\n",
        "print('F score is:',f1)"
      ],
      "metadata": {
        "colab": {
          "base_uri": "https://localhost:8080/"
        },
        "id": "y6rbeF3KxEFS",
        "outputId": "a4bf6443-f1f4-4489-fa0d-53e23912d71b"
      },
      "id": "y6rbeF3KxEFS",
      "execution_count": 26,
      "outputs": [
        {
          "output_type": "stream",
          "name": "stdout",
          "text": [
            "Accuracy is: 0.7211167211167211\n",
            "F score is: 0.8097264437689969\n"
          ]
        }
      ]
    },
    {
      "cell_type": "code",
      "source": [
        "test 修改 "
      ],
      "metadata": {
        "id": "eHl7nuKFykEO"
      },
      "id": "eHl7nuKFykEO",
      "execution_count": null,
      "outputs": []
    }
  ],
  "metadata": {
    "kernelspec": {
      "display_name": "Python [conda env:senta37]",
      "language": "python",
      "name": "conda-env-senta37-py"
    },
    "language_info": {
      "codemirror_mode": {
        "name": "ipython",
        "version": 3
      },
      "file_extension": ".py",
      "mimetype": "text/x-python",
      "name": "python",
      "nbconvert_exporter": "python",
      "pygments_lexer": "ipython3",
      "version": "3.7.10"
    },
    "colab": {
      "name": "“2 -all 3cProduct will improve -kaggle.ipynb",
      "provenance": [],
      "collapsed_sections": [],
      "include_colab_link": true
    }
  },
  "nbformat": 4,
  "nbformat_minor": 5
}